{
 "cells": [
  {
   "cell_type": "markdown",
   "id": "f05b13b8-29de-4917-ae11-3616552eaf00",
   "metadata": {},
   "source": [
    "# Data Science Tools and Ecosystem"
   ]
  },
  {
   "cell_type": "markdown",
   "id": "927b879a-10dc-4764-9fce-2c24938ccefc",
   "metadata": {},
   "source": [
    "## Data Science Tools and Ecosystem Summary\n",
    "\n",
    "In this notebook, we provide a comprehensive summary of essential Data Science tools and explore the ecosystem that supports the field. We'll cover a range of topics, including programming languages, libraries, frameworks, and data visualization tools commonly used by Data Scientists. Whether you are a beginner or an experienced practitioner, this guide aims to provide valuable insights into the Data Science landscape and help you make informed decisions for your projects.\n",
    "\n",
    "Let's dive into the exciting world of Data Science!\n"
   ]
  },
  {
   "cell_type": "markdown",
   "id": "c8a75c53-61ae-409c-b566-88562b456d5d",
   "metadata": {
    "tags": []
   },
   "source": [
    "# Some of the popular languages that Data Scientists use are:\n",
    "\n",
    "1. Python\n",
    "2. R\n",
    "3. Julia\n"
   ]
  },
  {
   "cell_type": "markdown",
   "id": "06609d0b-d859-43c1-8eb8-b829f0c310f4",
   "metadata": {},
   "source": [
    "# Some of the commonly used libraries used by Data Scientists include:\n",
    "\n",
    "1. NumPy\n",
    "2. Pandas\n",
    "3. Matplotlib\n"
   ]
  },
  {
   "cell_type": "markdown",
   "id": "0580acfb-10fe-4dd4-a667-6aae8ae24a95",
   "metadata": {},
   "source": [
    "| Data Science Tools |\n",
    "| ------------------ |\n",
    "| Jupyter Notebook   |\n",
    "| RStudio            |\n",
    "| VS Code            |\n"
   ]
  },
  {
   "cell_type": "markdown",
   "id": "4037fa97-d4fa-4f7f-839b-acc0228b03ba",
   "metadata": {
    "tags": []
   },
   "source": [
    "# Below are a few examples of evaluating arithmetic expressions in Python.\n"
   ]
  },
  {
   "cell_type": "code",
   "execution_count": 3,
   "id": "24af480c-dcd8-48ea-90b2-fcc108cfdbea",
   "metadata": {
    "tags": []
   },
   "outputs": [
    {
     "name": "stdout",
     "output_type": "stream",
     "text": [
      "17\n"
     ]
    }
   ],
   "source": [
    "# This is a simple arithmetic expression to multiply then add integers.\n",
    "result = (3 * 4) + 5\n",
    "print(result)\n"
   ]
  },
  {
   "cell_type": "code",
   "execution_count": 4,
   "id": "0f3a6898-d055-481a-8b04-ef2fe70a4535",
   "metadata": {
    "tags": []
   },
   "outputs": [
    {
     "name": "stdout",
     "output_type": "stream",
     "text": [
      "3.3333333333333335\n"
     ]
    }
   ],
   "source": [
    "# This will convert 200 minutes to hours by dividing by 60.\n",
    "minutes = 200\n",
    "hours = minutes / 60\n",
    "print(hours)\n"
   ]
  },
  {
   "cell_type": "markdown",
   "id": "7379dc2d-8e90-4912-bb6c-89efbfb43f76",
   "metadata": {},
   "source": [
    "# **Objectives:**\n",
    "\n",
    "- List popular languages for Data Science.\n",
    "- Introduce commonly used libraries in Data Science.\n",
    "- Showcase essential Data Science tools and their significance.\n",
    "- Provide insights into the Data Science ecosystem.\n",
    "- Demonstrate examples of evaluating arithmetic expressions in Python.\n",
    "\n"
   ]
  },
  {
   "cell_type": "markdown",
   "id": "60696a12-1575-4c7f-bfa2-694003eb5acf",
   "metadata": {
    "tags": []
   },
   "source": [
    "# Author\n",
    "\n",
    "Mohammed Irfan\n"
   ]
  },
  {
   "cell_type": "code",
   "execution_count": null,
   "id": "1b4fcdc4-dabd-4035-8c3a-9455aca91834",
   "metadata": {},
   "outputs": [],
   "source": []
  }
 ],
 "metadata": {
  "kernelspec": {
   "display_name": "Python",
   "language": "python",
   "name": "conda-env-python-py"
  },
  "language_info": {
   "codemirror_mode": {
    "name": "ipython",
    "version": 3
   },
   "file_extension": ".py",
   "mimetype": "text/x-python",
   "name": "python",
   "nbconvert_exporter": "python",
   "pygments_lexer": "ipython3",
   "version": "3.7.12"
  }
 },
 "nbformat": 4,
 "nbformat_minor": 5
}
